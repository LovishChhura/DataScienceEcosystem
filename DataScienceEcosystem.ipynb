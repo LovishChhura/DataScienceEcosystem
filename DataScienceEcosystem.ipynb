{
 "cells": [
  {
   "cell_type": "markdown",
   "id": "bdc7be61-0bfa-4c99-9120-b65b25b1b463",
   "metadata": {},
   "source": [
    "<h1>Data Science Tools and Ecosystem</h1>"
   ]
  },
  {
   "cell_type": "markdown",
   "id": "13890fcb-3c61-400c-8f0c-d1ecb52baed4",
   "metadata": {},
   "source": [
    "In this notebook, Data Science Tools and Ecosystem are summarized."
   ]
  },
  {
   "cell_type": "markdown",
   "id": "e4927dcb-e2c9-4af8-a765-2b8c63b906b4",
   "metadata": {},
   "source": [
    "Some of the popular languages that Data Scientists use are:\n",
    "<ol>\n",
    "  <li>Python</li>\n",
    "  <li>R</li>\n",
    "  <li>Julia</li>\n",
    "</ol>"
   ]
  },
  {
   "cell_type": "markdown",
   "id": "8b56e30b-3b9c-43f7-a12e-c0e714f64c16",
   "metadata": {},
   "source": [
    "Some of the commonly used libraries used by Data Scientists include:\n",
    "<ol>\n",
    "  <li>NumPy</li>\n",
    "  <li>Pandas</li>\n",
    "  <li>Matplotlib</li>\n",
    "</ol>"
   ]
  },
  {
   "cell_type": "markdown",
   "id": "9c758fe3-407c-495e-a160-86322e6ec7a8",
   "metadata": {},
   "source": [
    "<table>\n",
    "  <tr>\n",
    "    <th>Data Science Tools</th>\n",
    "  </tr>\n",
    "  <tr>\n",
    "    <td>Jupyter</td>\n",
    "  </tr>\n",
    "  <tr>\n",
    "    <td>R Studio</td>\n",
    "  </tr>\n",
    "    <tr>\n",
    "    <td>Apache Spark</td>\n",
    "  </tr>\n",
    "</table>\n"
   ]
  },
  {
   "cell_type": "markdown",
   "id": "9dd68a34-11ea-4543-8894-21099b3b9840",
   "metadata": {},
   "source": [
    "<h3>Below are a few examples of evaluating arithmetic expressions in Python:</h3>\n",
    "a=(12*4)+9\n",
    "<br>\n",
    "b=(20/4)+50\n",
    "<br>\n",
    "c=(13-4)+5"
   ]
  },
  {
   "cell_type": "code",
   "execution_count": 1,
   "id": "b0d534e6-c319-4cb7-9ef0-8c5c9e446e48",
   "metadata": {
    "tags": []
   },
   "outputs": [
    {
     "data": {
      "text/plain": [
       "17"
      ]
     },
     "execution_count": 1,
     "metadata": {},
     "output_type": "execute_result"
    }
   ],
   "source": [
    "#This a simple arithmetic expression to mutiply then add integers\n",
    "(3*4)+5"
   ]
  },
  {
   "cell_type": "code",
   "execution_count": 3,
   "id": "c7cefc47-4e6b-45de-a777-28f4d70ade85",
   "metadata": {
    "tags": []
   },
   "outputs": [
    {
     "name": "stdout",
     "output_type": "stream",
     "text": [
      "120 minutes =  2.0 hrs\n"
     ]
    }
   ],
   "source": [
    "#This will convert 200 minutes to hours by diving by 60\n",
    "mins=120\n",
    "hrs=mins/60\n",
    "print(mins,\"minutes = \",hrs,\"hrs\")"
   ]
  },
  {
   "cell_type": "markdown",
   "id": "cf88dc84-8491-47c1-ae19-dfa95d30846e",
   "metadata": {},
   "source": [
    "<b>Objectives:</b>\n",
    "<ul>\n",
    "  <li>Create a Jupyter Notebook</li>\n",
    "  <li>Insert code and markdown cells</li>\n",
    "  <li>Share your notebook through GitHub</li>\n",
    "</ul>"
   ]
  },
  {
   "cell_type": "markdown",
   "id": "34007fb7-bdc2-44e4-aa0d-b4d397f35e76",
   "metadata": {},
   "source": [
    "<h2>Author</h2>\n",
    "Lovish"
   ]
  },
  {
   "cell_type": "code",
   "execution_count": null,
   "id": "bf5fb6d5-9c8d-4b62-9f9b-8b4b3d6ddb97",
   "metadata": {},
   "outputs": [],
   "source": []
  }
 ],
 "metadata": {
  "kernelspec": {
   "display_name": "Python",
   "language": "python",
   "name": "conda-env-python-py"
  },
  "language_info": {
   "codemirror_mode": {
    "name": "ipython",
    "version": 3
   },
   "file_extension": ".py",
   "mimetype": "text/x-python",
   "name": "python",
   "nbconvert_exporter": "python",
   "pygments_lexer": "ipython3",
   "version": "3.7.12"
  }
 },
 "nbformat": 4,
 "nbformat_minor": 5
}
